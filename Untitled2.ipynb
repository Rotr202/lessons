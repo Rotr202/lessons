{
 "cells": [
  {
   "cell_type": "code",
   "execution_count": 4,
   "id": "b608cbee-261c-4905-a71b-3dca7af863d1",
   "metadata": {
    "scrolled": true
   },
   "outputs": [
    {
     "name": "stdout",
     "output_type": "stream",
     "text": [
      "shreklol!!!!!\n",
      "shreklol!!!!!\n",
      "shreklol!!!!!\n",
      "shreklol!!!!!\n",
      "shreklol!!!!!\n",
      "shreklol!!!!!\n",
      "shreklol!!!!!\n",
      "shreklol!!!!!\n",
      "shreklol!!!!!\n",
      "shreklol!!!!!\n",
      "shreklol!!!!!\n",
      "shreklol!!!!!\n",
      "shreklol!!!!!\n",
      "shreklol!!!!!\n",
      "shreklol!!!!!\n",
      "shreklol!!!!!\n",
      "shreklol!!!!!\n",
      "shreklol!!!!!\n",
      "shreklol!!!!!\n",
      "shreklol!!!!!\n",
      "shreklol!!!!!\n",
      "shreklol!!!!!\n",
      "shreklol!!!!!\n",
      "shreklol!!!!!\n",
      "shreklol!!!!!\n",
      "shreklol!!!!!\n",
      "shreklol!!!!!\n",
      "shreklol!!!!!\n",
      "shreklol!!!!!\n",
      "shreklol!!!!!\n",
      "shreklol!!!!!\n",
      "shreklol!!!!!\n",
      "shreklol!!!!!\n",
      "shreklol!!!!!\n",
      "shreklol!!!!!\n",
      "shreklol!!!!!\n",
      "shreklol!!!!!\n"
     ]
    }
   ],
   "source": [
    "for i in range (37):\n",
    "    print (\"shreklol!!!!!\")\n"
   ]
  },
  {
   "cell_type": "code",
   "execution_count": 10,
   "id": "160cb791-af86-4e11-a2db-fc0fad559471",
   "metadata": {},
   "outputs": [
    {
     "name": "stdout",
     "output_type": "stream",
     "text": [
      "radzim 1\n",
      "radzim 2\n",
      "radzim 3\n",
      "radzim 4\n",
      "radzim 5\n",
      "radzim 6\n",
      "radzim 7\n",
      "radzim 8\n",
      "radzim 9\n",
      "radzim 10\n",
      "radzim 11\n",
      "radzim 12\n",
      "radzim 13\n",
      "radzim 14\n",
      "radzim 15\n",
      "radzim 16\n",
      "radzim 17\n",
      "radzim 18\n",
      "radzim 19\n",
      "radzim 20\n",
      "radzim 21\n",
      "radzim 22\n",
      "radzim 23\n",
      "radzim 24\n",
      "radzim 25\n",
      "radzim 26\n",
      "radzim 27\n",
      "radzim 28\n",
      "radzim 29\n",
      "radzim 30\n",
      "radzim 31\n"
     ]
    }
   ],
   "source": [
    "p = 1\n",
    "while p<32:\n",
    "    print(\"radzim\", p)\n",
    "    p+=1"
   ]
  },
  {
   "cell_type": "code",
   "execution_count": 8,
   "id": "58503bac-65d0-45a4-bbec-523f14a24a61",
   "metadata": {},
   "outputs": [
    {
     "name": "stdout",
     "output_type": "stream",
     "text": [
      "0\n",
      "1\n",
      "2\n",
      "3\n",
      "4\n",
      "5\n",
      "6\n",
      "7\n",
      "8\n",
      "9\n",
      "10\n",
      "11\n",
      "12\n",
      "13\n",
      "14\n"
     ]
    }
   ],
   "source": [
    "for i in range (0, 15):\n",
    "    print (i)"
   ]
  },
  {
   "cell_type": "code",
   "execution_count": 14,
   "id": "88a867df-b15e-41d8-9e05-aeb08b5b8cc1",
   "metadata": {},
   "outputs": [
    {
     "name": "stdout",
     "output_type": "stream",
     "text": [
      "9\n",
      "12\n",
      "15\n",
      "18\n",
      "21\n",
      "24\n",
      "27\n",
      "30\n",
      "33\n",
      "36\n",
      "39\n",
      "42\n",
      "45\n",
      "48\n",
      "51\n",
      "54\n",
      "57\n",
      "60\n",
      "63\n",
      "66\n",
      "69\n",
      "72\n",
      "75\n",
      "78\n",
      "81\n",
      "84\n",
      "87\n",
      "90\n",
      "93\n",
      "96\n",
      "99\n",
      "102\n"
     ]
    }
   ],
   "source": [
    "lol=3\n",
    "for i in range (3, 35):\n",
    "    mul = i * lol\n",
    "    print (mul)"
   ]
  },
  {
   "cell_type": "code",
   "execution_count": 20,
   "id": "33b325b9-6753-455f-abf8-149dc24c770f",
   "metadata": {},
   "outputs": [
    {
     "name": "stdout",
     "output_type": "stream",
     "text": [
      "aynaD\n"
     ]
    }
   ],
   "source": [
    "name=\"Danya\"\n",
    "reversed_letter=''\n",
    "for letter in name:\n",
    "    reversed_letter=letter+reversed_letter\n",
    "print(reversed_letter)"
   ]
  },
  {
   "cell_type": "code",
   "execution_count": null,
   "id": "7869f20c-5c80-4b5b-9c21-ceee9b28a36b",
   "metadata": {},
   "outputs": [],
   "source": []
  }
 ],
 "metadata": {
  "kernelspec": {
   "display_name": "Python 3 (ipykernel)",
   "language": "python",
   "name": "python3"
  },
  "language_info": {
   "codemirror_mode": {
    "name": "ipython",
    "version": 3
   },
   "file_extension": ".py",
   "mimetype": "text/x-python",
   "name": "python",
   "nbconvert_exporter": "python",
   "pygments_lexer": "ipython3",
   "version": "3.12.2"
  }
 },
 "nbformat": 4,
 "nbformat_minor": 5
}
