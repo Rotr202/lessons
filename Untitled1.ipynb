{
 "cells": [
  {
   "cell_type": "code",
   "execution_count": 1,
   "id": "bac3ad5e-d3ec-4e04-8293-43a0259441bf",
   "metadata": {},
   "outputs": [
    {
     "name": "stdout",
     "output_type": "stream",
     "text": [
      "lol\n",
      "lol\n",
      "lol\n",
      "lol\n",
      "lol\n",
      "lol\n",
      "lol\n",
      "lol\n",
      "lol\n",
      "lol\n",
      "lol\n",
      "lol\n",
      "lol\n",
      "lol\n",
      "lol\n",
      "lol\n",
      "lol\n",
      "lol\n",
      "lol\n",
      "lol\n",
      "lol\n",
      "lol\n",
      "lol\n",
      "lol\n",
      "lol\n",
      "lol\n",
      "lol\n",
      "lol\n",
      "lol\n",
      "lol\n",
      "lol\n",
      "lol\n",
      "lol\n",
      "lol\n",
      "lol\n",
      "lol\n",
      "lol\n"
     ]
    }
   ],
   "source": [
    "for i in range (37):\n",
    "    print (\"lol\")\n"
   ]
  },
  {
   "cell_type": "code",
   "execution_count": 2,
   "id": "462395dc-d9c3-4749-8025-470c4b2e747a",
   "metadata": {
    "scrolled": true
   },
   "outputs": [
    {
     "name": "stdout",
     "output_type": "stream",
     "text": [
      "looooooooool 0\n",
      "looooooooool 1\n",
      "looooooooool 2\n",
      "looooooooool 3\n",
      "looooooooool 4\n",
      "looooooooool 5\n",
      "looooooooool 6\n",
      "looooooooool 7\n",
      "looooooooool 8\n",
      "looooooooool 9\n",
      "looooooooool 10\n",
      "looooooooool 11\n",
      "looooooooool 12\n",
      "looooooooool 13\n",
      "looooooooool 14\n",
      "looooooooool 15\n",
      "looooooooool 16\n",
      "looooooooool 17\n",
      "looooooooool 18\n",
      "looooooooool 19\n",
      "looooooooool 20\n",
      "looooooooool 21\n",
      "looooooooool 22\n"
     ]
    }
   ],
   "source": [
    "w=0\n",
    "while w<23:\n",
    "    print (\"looooooooool\", w)\n",
    "    w = w + 1\n",
    "    "
   ]
  },
  {
   "cell_type": "code",
   "execution_count": 3,
   "id": "c71af9e8-5eba-4c6f-818a-c03fba5c0d10",
   "metadata": {},
   "outputs": [
    {
     "name": "stdout",
     "output_type": "stream",
     "text": [
      "66\n"
     ]
    }
   ],
   "source": [
    "my_list=[ 6, 13, 18, 29 ]\n",
    "sum=0\n",
    "for number in my_list:\n",
    "    sum+=number\n",
    "print (sum)"
   ]
  },
  {
   "cell_type": "code",
   "execution_count": 5,
   "id": "28bc1427-7838-43a5-babe-facb2b4ea203",
   "metadata": {},
   "outputs": [],
   "source": [
    "import random "
   ]
  },
  {
   "cell_type": "code",
   "execution_count": 11,
   "id": "1fd66e5a-3809-4a8f-a175-671f0ddf2b65",
   "metadata": {},
   "outputs": [],
   "source": [
    "import random as rnd"
   ]
  },
  {
   "cell_type": "code",
   "execution_count": 15,
   "id": "39aa8c08-64da-4a8e-9d8d-e9ab40d221eb",
   "metadata": {},
   "outputs": [
    {
     "data": {
      "text/plain": [
       "50"
      ]
     },
     "execution_count": 15,
     "metadata": {},
     "output_type": "execute_result"
    }
   ],
   "source": [
    "rnd.randint(1, 56)"
   ]
  },
  {
   "cell_type": "code",
   "execution_count": 16,
   "id": "d22b6872-647a-46c5-82ab-ed51729e2038",
   "metadata": {},
   "outputs": [
    {
     "data": {
      "text/plain": [
       "6"
      ]
     },
     "execution_count": 16,
     "metadata": {},
     "output_type": "execute_result"
    }
   ],
   "source": [
    "rnd.randint(1, 56)"
   ]
  },
  {
   "cell_type": "code",
   "execution_count": 17,
   "id": "26efc58a-cf77-48ad-8c23-bc31d9756cf3",
   "metadata": {},
   "outputs": [
    {
     "data": {
      "text/plain": [
       "6"
      ]
     },
     "execution_count": 17,
     "metadata": {},
     "output_type": "execute_result"
    }
   ],
   "source": [
    "rnd.randint(1, 56)"
   ]
  },
  {
   "cell_type": "code",
   "execution_count": 18,
   "id": "fb2a6857-e57b-4a19-8285-ccbdbcaa969a",
   "metadata": {},
   "outputs": [
    {
     "data": {
      "text/plain": [
       "23"
      ]
     },
     "execution_count": 18,
     "metadata": {},
     "output_type": "execute_result"
    }
   ],
   "source": [
    "rnd.randint(1, 56)"
   ]
  },
  {
   "cell_type": "code",
   "execution_count": 39,
   "id": "13fe8401-71b4-429b-94fb-a09cd535dc1b",
   "metadata": {},
   "outputs": [
    {
     "name": "stdout",
     "output_type": "stream",
     "text": [
      "Супала\n",
      "3\n"
     ]
    }
   ],
   "source": [
    "l=3\n",
    "r=rnd.randint(1, 4)\n",
    "if r==l:\n",
    "    print(\"Супала\")\n",
    "print(r)"
   ]
  },
  {
   "cell_type": "code",
   "execution_count": null,
   "id": "7c32bc9f-3d7d-4e42-b5d3-e2b474e1e124",
   "metadata": {},
   "outputs": [],
   "source": []
  }
 ],
 "metadata": {
  "kernelspec": {
   "display_name": "Python 3 (ipykernel)",
   "language": "python",
   "name": "python3"
  },
  "language_info": {
   "codemirror_mode": {
    "name": "ipython",
    "version": 3
   },
   "file_extension": ".py",
   "mimetype": "text/x-python",
   "name": "python",
   "nbconvert_exporter": "python",
   "pygments_lexer": "ipython3",
   "version": "3.12.2"
  }
 },
 "nbformat": 4,
 "nbformat_minor": 5
}
