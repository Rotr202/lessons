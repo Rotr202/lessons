{
 "cells": [
  {
   "cell_type": "code",
   "execution_count": 1,
   "id": "b5029e8a-a1fa-42a3-9f1f-1db406a33f32",
   "metadata": {},
   "outputs": [],
   "source": [
    "t=36\n",
    "k=\"stht\""
   ]
  },
  {
   "cell_type": "code",
   "execution_count": 17,
   "id": "32e42943-3eee-4778-a7a9-73ce0c99d41c",
   "metadata": {},
   "outputs": [
    {
     "name": "stdout",
     "output_type": "stream",
     "text": [
      "Yes\n"
     ]
    }
   ],
   "source": [
    "i=36\n",
    "if i==34:\n",
    "    print(\"No\")\n",
    "else:\n",
    "    print(\"Yes\")"
   ]
  },
  {
   "cell_type": "code",
   "execution_count": 21,
   "id": "ebd2c164-2266-475d-b991-0c84363f2644",
   "metadata": {},
   "outputs": [
    {
     "name": "stdout",
     "output_type": "stream",
     "text": [
      "['milk', 'cucamber', 'eggs']\n"
     ]
    }
   ],
   "source": [
    "my_list = [\"milk\", \"cucamber\", \"eggs\"]\n",
    "print (my_list)"
   ]
  },
  {
   "cell_type": "code",
   "execution_count": 26,
   "id": "46de57ef-e0f4-4a57-8ac5-21fe91cd8195",
   "metadata": {},
   "outputs": [],
   "source": [
    "is_home=[ True, True, False ]"
   ]
  },
  {
   "cell_type": "code",
   "execution_count": 33,
   "id": "c3e1f723-6f7e-4ce8-bdd1-c2727ee43a90",
   "metadata": {},
   "outputs": [
    {
     "name": "stdout",
     "output_type": "stream",
     "text": [
      "nyama potato\n"
     ]
    }
   ],
   "source": [
    "\n",
    "f=[\"milk\",\"potato\",\"eggs\"]\n",
    "t=[ True, False, True ]\n",
    "if f[1]==True:\n",
    "    print (f[1])\n",
    "else:\n",
    "    print(\"nyama\",f[1])\n"
   ]
  },
  {
   "cell_type": "code",
   "execution_count": null,
   "id": "a10429c1-2da6-4e0d-b86c-66bbcc310e70",
   "metadata": {},
   "outputs": [],
   "source": []
  }
 ],
 "metadata": {
  "kernelspec": {
   "display_name": "Python 3 (ipykernel)",
   "language": "python",
   "name": "python3"
  },
  "language_info": {
   "codemirror_mode": {
    "name": "ipython",
    "version": 3
   },
   "file_extension": ".py",
   "mimetype": "text/x-python",
   "name": "python",
   "nbconvert_exporter": "python",
   "pygments_lexer": "ipython3",
   "version": "3.12.2"
  }
 },
 "nbformat": 4,
 "nbformat_minor": 5
}
